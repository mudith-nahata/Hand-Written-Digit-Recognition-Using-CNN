{
  "nbformat": 4,
  "nbformat_minor": 0,
  "metadata": {
    "colab": {
      "provenance": [],
      "gpuType": "V28"
    },
    "kernelspec": {
      "name": "python3",
      "display_name": "Python 3"
    },
    "language_info": {
      "name": "python"
    },
    "accelerator": "TPU"
  },
  "cells": [
    {
      "cell_type": "markdown",
      "source": [
        "**Importing the Necessary Libraries**"
      ],
      "metadata": {
        "id": "CfX47dAJjwDV"
      }
    },
    {
      "cell_type": "code",
      "source": [
        "import numpy as np\n",
        "from sklearn.model_selection import train_test_split\n",
        "from sklearn.metrics import classification_report\n",
        "from sklearn.metrics import confusion_matrix\n",
        "import tensorflow\n",
        "from tensorflow.keras.models import Sequential\n",
        "from tensorflow.keras.layers import Dense, Dropout, Flatten, Conv2D, MaxPooling2D\n",
        "from keras.datasets import mnist\n",
        "from keras.preprocessing.image import ImageDataGenerator\n",
        "import matplotlib.pyplot as plt\n",
        "import seaborn as sns"
      ],
      "metadata": {
        "id": "mWQBLMB7jrfU"
      },
      "execution_count": 42,
      "outputs": []
    },
    {
      "cell_type": "markdown",
      "source": [
        "**Loading and Preprocessing MNIST Data**"
      ],
      "metadata": {
        "id": "L7UjFoZMjX1W"
      }
    },
    {
      "cell_type": "code",
      "source": [
        "(train_images,train_labels),(test_images,test_labels)=mnist.load_data()"
      ],
      "metadata": {
        "id": "T7r6UGk0jgUO"
      },
      "execution_count": 43,
      "outputs": []
    },
    {
      "cell_type": "markdown",
      "source": [
        "**Train Test Split**"
      ],
      "metadata": {
        "id": "JKTbu_G3LRnm"
      }
    },
    {
      "cell_type": "code",
      "source": [
        "test_images,val_images,test_labels,val_labels=train_test_split(test_images,test_labels,test_size=0.5,random_state=42)"
      ],
      "metadata": {
        "id": "5_-1y0SBLXAc"
      },
      "execution_count": 44,
      "outputs": []
    },
    {
      "cell_type": "code",
      "source": [
        "train_images = train_images.astype('float32') / 255\n",
        "train_images = np.reshape(train_images, (len(train_images), 28, 28, 1))\n",
        "\n",
        "test_images = test_images.astype('float32') / 255\n",
        "test_images = np.reshape(test_images, (len(test_images), 28, 28, 1))"
      ],
      "metadata": {
        "id": "MYpX_skPy1EH"
      },
      "execution_count": 45,
      "outputs": []
    },
    {
      "cell_type": "code",
      "source": [
        "print(train_images.shape)\n",
        "print(test_images.shape)\n",
        "print(val_images.shape)"
      ],
      "metadata": {
        "colab": {
          "base_uri": "https://localhost:8080/"
        },
        "id": "bZoeOmIuMHlB",
        "outputId": "8a1a6ccb-85de-4528-b297-fb7167eb2f07"
      },
      "execution_count": 46,
      "outputs": [
        {
          "output_type": "stream",
          "name": "stdout",
          "text": [
            "(60000, 28, 28, 1)\n",
            "(5000, 28, 28, 1)\n",
            "(5000, 28, 28)\n"
          ]
        }
      ]
    },
    {
      "cell_type": "code",
      "source": [
        "print(train_labels.shape)\n",
        "print(test_labels.shape)\n",
        "print(val_labels.shape)"
      ],
      "metadata": {
        "colab": {
          "base_uri": "https://localhost:8080/"
        },
        "id": "f5SGtQUWOUT9",
        "outputId": "a94d267c-7083-4726-c44d-70150ff206c0"
      },
      "execution_count": 47,
      "outputs": [
        {
          "output_type": "stream",
          "name": "stdout",
          "text": [
            "(60000,)\n",
            "(5000,)\n",
            "(5000,)\n"
          ]
        }
      ]
    },
    {
      "cell_type": "markdown",
      "source": [
        "**Creating a Neural Network Architecture**\n",
        "\n"
      ],
      "metadata": {
        "id": "7Snscg1hzPaX"
      }
    },
    {
      "cell_type": "code",
      "source": [
        "model=Sequential()\n",
        "model.add(Conv2D(32,kernel_size=(3,3),activation='relu',input_shape=(28,28,1)))\n",
        "model.add(Conv2D(64,kernel_size=(3,3),activation='relu'))\n",
        "model.add(MaxPooling2D(pool_size=(2,2)))\n",
        "model.add(Dropout(0.25))\n",
        "model.add(Flatten())\n",
        "\n",
        "#connecting the fully connected layers to the feature maps\n",
        "model.add(Dense(256,activation='relu'))\n",
        "model.add(Dropout(0.25))\n",
        "model.add(Dense(10,activation='softmax'))"
      ],
      "metadata": {
        "id": "G8yVjMrBzedd"
      },
      "execution_count": 48,
      "outputs": []
    },
    {
      "cell_type": "markdown",
      "source": [
        "**Compiling the Model**"
      ],
      "metadata": {
        "id": "y6WX2qnwM9A2"
      }
    },
    {
      "cell_type": "code",
      "source": [
        "model.compile(optimizer='adam',loss='sparse_categorical_crossentropy',metrics=['accuracy'])"
      ],
      "metadata": {
        "id": "c-Y7ADEJNC4-"
      },
      "execution_count": 49,
      "outputs": []
    },
    {
      "cell_type": "markdown",
      "source": [
        "**Training the Model**"
      ],
      "metadata": {
        "id": "omES1TQVOw5n"
      }
    },
    {
      "cell_type": "code",
      "source": [
        "history=model.fit(train_images,train_labels,epochs=10,validation_data=(test_images,test_labels))"
      ],
      "metadata": {
        "colab": {
          "base_uri": "https://localhost:8080/"
        },
        "id": "k8AQRgMiO1FX",
        "outputId": "4a9e441b-5b54-4de8-fc11-411fc0c2050e"
      },
      "execution_count": 50,
      "outputs": [
        {
          "output_type": "stream",
          "name": "stdout",
          "text": [
            "Epoch 1/10\n",
            "1875/1875 [==============================] - 28s 15ms/step - loss: 0.1230 - accuracy: 0.9628 - val_loss: 0.0431 - val_accuracy: 0.9866\n",
            "Epoch 2/10\n",
            "1875/1875 [==============================] - 28s 15ms/step - loss: 0.0467 - accuracy: 0.9854 - val_loss: 0.0353 - val_accuracy: 0.9890\n",
            "Epoch 3/10\n",
            "1875/1875 [==============================] - 28s 15ms/step - loss: 0.0316 - accuracy: 0.9900 - val_loss: 0.0315 - val_accuracy: 0.9918\n",
            "Epoch 4/10\n",
            "1875/1875 [==============================] - 27s 15ms/step - loss: 0.0247 - accuracy: 0.9924 - val_loss: 0.0346 - val_accuracy: 0.9904\n",
            "Epoch 5/10\n",
            "1875/1875 [==============================] - 28s 15ms/step - loss: 0.0197 - accuracy: 0.9936 - val_loss: 0.0337 - val_accuracy: 0.9914\n",
            "Epoch 6/10\n",
            "1875/1875 [==============================] - 27s 15ms/step - loss: 0.0155 - accuracy: 0.9947 - val_loss: 0.0334 - val_accuracy: 0.9916\n",
            "Epoch 7/10\n",
            "1875/1875 [==============================] - 28s 15ms/step - loss: 0.0126 - accuracy: 0.9959 - val_loss: 0.0348 - val_accuracy: 0.9918\n",
            "Epoch 8/10\n",
            "1875/1875 [==============================] - 27s 14ms/step - loss: 0.0118 - accuracy: 0.9960 - val_loss: 0.0359 - val_accuracy: 0.9918\n",
            "Epoch 9/10\n",
            "1875/1875 [==============================] - 27s 14ms/step - loss: 0.0116 - accuracy: 0.9962 - val_loss: 0.0394 - val_accuracy: 0.9914\n",
            "Epoch 10/10\n",
            "1875/1875 [==============================] - 27s 15ms/step - loss: 0.0086 - accuracy: 0.9972 - val_loss: 0.0357 - val_accuracy: 0.9924\n"
          ]
        }
      ]
    },
    {
      "cell_type": "markdown",
      "source": [
        "**Model Summary**"
      ],
      "metadata": {
        "id": "7yagAip9hxvx"
      }
    },
    {
      "cell_type": "code",
      "source": [
        "model.summary()"
      ],
      "metadata": {
        "colab": {
          "base_uri": "https://localhost:8080/"
        },
        "id": "WkSvJ9-wiZOR",
        "outputId": "68cfeed6-d023-4f6a-8fe2-39d7f2a9145e"
      },
      "execution_count": 51,
      "outputs": [
        {
          "output_type": "stream",
          "name": "stdout",
          "text": [
            "Model: \"sequential_6\"\n",
            "_________________________________________________________________\n",
            " Layer (type)                Output Shape              Param #   \n",
            "=================================================================\n",
            " conv2d_16 (Conv2D)          (None, 26, 26, 32)        320       \n",
            "                                                                 \n",
            " conv2d_17 (Conv2D)          (None, 24, 24, 64)        18496     \n",
            "                                                                 \n",
            " max_pooling2d_9 (MaxPoolin  (None, 12, 12, 64)        0         \n",
            " g2D)                                                            \n",
            "                                                                 \n",
            " dropout_6 (Dropout)         (None, 12, 12, 64)        0         \n",
            "                                                                 \n",
            " flatten_6 (Flatten)         (None, 9216)              0         \n",
            "                                                                 \n",
            " dense_12 (Dense)            (None, 256)               2359552   \n",
            "                                                                 \n",
            " dropout_7 (Dropout)         (None, 256)               0         \n",
            "                                                                 \n",
            " dense_13 (Dense)            (None, 10)                2570      \n",
            "                                                                 \n",
            "=================================================================\n",
            "Total params: 2380938 (9.08 MB)\n",
            "Trainable params: 2380938 (9.08 MB)\n",
            "Non-trainable params: 0 (0.00 Byte)\n",
            "_________________________________________________________________\n"
          ]
        }
      ]
    },
    {
      "cell_type": "code",
      "source": [
        "plt.plot(history.history['accuracy'])\n",
        "plt.plot(history.history['val_accuracy'])"
      ],
      "metadata": {
        "colab": {
          "base_uri": "https://localhost:8080/",
          "height": 448
        },
        "id": "sCdr9J3PjBz-",
        "outputId": "f2b47d87-a670-4755-d34c-4570d68de19c"
      },
      "execution_count": 52,
      "outputs": [
        {
          "output_type": "execute_result",
          "data": {
            "text/plain": [
              "[<matplotlib.lines.Line2D at 0x793b3100caf0>]"
            ]
          },
          "metadata": {},
          "execution_count": 52
        },
        {
          "output_type": "display_data",
          "data": {
            "text/plain": [
              "<Figure size 640x480 with 1 Axes>"
            ],
            "image/png": "[encoded data removed]"
          },
          "metadata": {}
        }
      ]
    },
    {
      "cell_type": "code",
      "source": [
        "plt.plot(history.history['loss'])\n",
        "plt.plot(history.history['val_loss'])"
      ],
      "metadata": {
        "colab": {
          "base_uri": "https://localhost:8080/",
          "height": 448
        },
        "id": "vVYPQi01jt1d",
        "outputId": "a768ea4d-3934-4f5a-e335-5f17413a53dd"
      },
      "execution_count": 53,
      "outputs": [
        {
          "output_type": "execute_result",
          "data": {
            "text/plain": [
              "[<matplotlib.lines.Line2D at 0x793b387dc340>]"
            ]
          },
          "metadata": {},
          "execution_count": 53
        },
        {
          "output_type": "display_data",
          "data": {
            "text/plain": [
              "<Figure size 640x480 with 1 Axes>"
            ],
            "image/png": "[encoded data removed]"
          },
          "metadata": {}
        }
      ]
    },
    {
      "cell_type": "markdown",
      "source": [
        "**Evaluating Model on Test data**"
      ],
      "metadata": {
        "id": "2MoxleFukDBQ"
      }
    },
    {
      "cell_type": "code",
      "source": [
        "test_loss,test_acc=model.evaluate(test_images,test_labels)"
      ],
      "metadata": {
        "colab": {
          "base_uri": "https://localhost:8080/"
        },
        "id": "bPGMvaG0kJm3",
        "outputId": "f6014ec1-7b35-4804-979d-1e510ff8c404"
      },
      "execution_count": 54,
      "outputs": [
        {
          "output_type": "stream",
          "name": "stdout",
          "text": [
            "157/157 [==============================] - 1s 4ms/step - loss: 0.0357 - accuracy: 0.9924\n"
          ]
        }
      ]
    },
    {
      "cell_type": "code",
      "source": [
        "print(\"Test Accuracy:{}\".format(test_acc))\n",
        "print(\"Test Loss:{}\".format(test_loss))"
      ],
      "metadata": {
        "colab": {
          "base_uri": "https://localhost:8080/"
        },
        "id": "WTuZLgulkSRv",
        "outputId": "4b2df55f-e816-4046-a9b1-408e6e25b9b2"
      },
      "execution_count": 55,
      "outputs": [
        {
          "output_type": "stream",
          "name": "stdout",
          "text": [
            "Test Accuracy:0.9923999905586243\n",
            "Test Loss:0.03571977838873863\n"
          ]
        }
      ]
    },
    {
      "cell_type": "code",
      "source": [
        "predicted_labels=model.predict(test_images)\n",
        "predicted_labels=np.argmax(predicted_labels,axis=1)\n",
        "\n",
        "class_report=classification_report(test_labels,predicted_labels)\n",
        "print(class_report)"
      ],
      "metadata": {
        "colab": {
          "base_uri": "https://localhost:8080/"
        },
        "id": "fRDzMv7nk7dH",
        "outputId": "61f2fe5c-7f3d-4fb1-ae28-436f26f067e8"
      },
      "execution_count": 56,
      "outputs": [
        {
          "output_type": "stream",
          "name": "stdout",
          "text": [
            "157/157 [==============================] - 1s 4ms/step\n",
            "              precision    recall  f1-score   support\n",
            "\n",
            "           0       0.99      0.99      0.99       486\n",
            "           1       0.99      0.99      0.99       574\n",
            "           2       0.99      0.99      0.99       508\n",
            "           3       1.00      1.00      1.00       487\n",
            "           4       1.00      0.99      1.00       481\n",
            "           5       0.99      0.99      0.99       477\n",
            "           6       0.99      0.99      0.99       464\n",
            "           7       0.99      0.99      0.99       532\n",
            "           8       0.99      0.99      0.99       494\n",
            "           9       1.00      0.99      0.99       497\n",
            "\n",
            "    accuracy                           0.99      5000\n",
            "   macro avg       0.99      0.99      0.99      5000\n",
            "weighted avg       0.99      0.99      0.99      5000\n",
            "\n"
          ]
        }
      ]
    },
    {
      "cell_type": "code",
      "source": [
        "conf_matrix=confusion_matrix(test_labels,predicted_labels)\n",
        "plt.figure(figsize=(10,10))\n",
        "sns.heatmap(conf_matrix,annot=True,fmt='d',cmap='Blues',xticklabels=range(10),yticklabels=range(10))\n",
        "plt.xlabel('Predicted Labels')\n",
        "plt.ylabel('True Labels')\n",
        "plt.title('Confusion Matrix')\n",
        "plt.show()"
      ],
      "metadata": {
        "colab": {
          "base_uri": "https://localhost:8080/",
          "height": 872
        },
        "id": "eOcgtFHSlg9C",
        "outputId": "96d586e6-f268-454d-dae6-e879fc0144be"
      },
      "execution_count": 57,
      "outputs": [
        {
          "output_type": "display_data",
          "data": {
            "text/plain": [
              "<Figure size 1000x1000 with 2 Axes>"
            ],
            "image/png": "[encoded data removed]"
          },
          "metadata": {}
        }
      ]
    },
    {
      "cell_type": "markdown",
      "source": [
        "**Data Augmentation**"
      ],
      "metadata": {
        "id": "UFAyv0wYmv67"
      }
    },
    {
      "cell_type": "code",
      "source": [
        "img=ImageDataGenerator(\n",
        "    rotation_range=10,\n",
        "    width_shift_range=0.1,\n",
        "    height_shift_range=0.1,\n",
        "    shear_range=0.1,\n",
        "    zoom_range=0.1,\n",
        "    horizontal_flip=False,\n",
        "    vertical_flip=False,\n",
        "    fill_mode='nearest'\n",
        ")"
      ],
      "metadata": {
        "id": "1AvEU4b6nkgD"
      },
      "execution_count": 58,
      "outputs": []
    },
    {
      "cell_type": "code",
      "source": [
        "#reshape val_images to include the channel dimension\n",
        "if val_images.ndim==3:\n",
        "  val_images=np.expand_dims(val_images,-1)\n",
        "\n",
        "#now we can use flow method\n",
        "test_datagen=img.flow(val_images,val_labels)"
      ],
      "metadata": {
        "id": "5sLMWLQgoYry"
      },
      "execution_count": 75,
      "outputs": []
    },
    {
      "cell_type": "code",
      "source": [
        "val_images.shape"
      ],
      "metadata": {
        "colab": {
          "base_uri": "https://localhost:8080/"
        },
        "id": "5OHLfwNgqnxf",
        "outputId": "72e116a3-9816-4821-908f-72c8f50f563a"
      },
      "execution_count": 76,
      "outputs": [
        {
          "output_type": "execute_result",
          "data": {
            "text/plain": [
              "(5000, 28, 28, 1)"
            ]
          },
          "metadata": {},
          "execution_count": 76
        }
      ]
    },
    {
      "cell_type": "markdown",
      "source": [
        "**Created a Neural Network Architecture**"
      ],
      "metadata": {
        "id": "boKFMJWvHOnW"
      }
    },
    {
      "cell_type": "code",
      "source": [
        "model1=Sequential()\n",
        "model1.add(Conv2D(32,kernel_size=(3,3),activation='relu',input_shape=(28,28,1)))\n",
        "model1.add(Conv2D(64,kernel_size=(3,3),activation='relu'))\n",
        "model1.add(MaxPooling2D(pool_size=(2,2)))\n",
        "model1.add(Dropout(0.25))\n",
        "model1.add(Flatten())\n",
        "\n",
        "#connecting the fully connected layers to the feature maps\n",
        "model1.add(Dense(256,activation='relu'))\n",
        "model1.add(Dropout(0.25))\n",
        "model1.add(Dense(10,activation='softmax'))"
      ],
      "metadata": {
        "id": "RAfaYoOQHXph"
      },
      "execution_count": 80,
      "outputs": []
    },
    {
      "cell_type": "markdown",
      "source": [
        "**Compiling the Model**"
      ],
      "metadata": {
        "id": "lu9cb_CRHgt4"
      }
    },
    {
      "cell_type": "code",
      "source": [
        "model1.compile(optimizer='adam',loss='sparse_categorical_crossentropy',metrics=['accuracy'])"
      ],
      "metadata": {
        "id": "yApefo3AHm41"
      },
      "execution_count": 81,
      "outputs": []
    },
    {
      "cell_type": "markdown",
      "source": [
        "**Training the data using augmentated data**"
      ],
      "metadata": {
        "id": "vIZrzQc9H7Md"
      }
    },
    {
      "cell_type": "code",
      "source": [
        "history1=model1.fit(test_datagen,epochs=10,validation_data=(val_images,val_labels))"
      ],
      "metadata": {
        "colab": {
          "base_uri": "https://localhost:8080/"
        },
        "id": "TzWr3QHzIBAn",
        "outputId": "ba6a56cf-a3bb-4bda-a8c0-7ca79d0096de"
      },
      "execution_count": 82,
      "outputs": [
        {
          "output_type": "stream",
          "name": "stdout",
          "text": [
            "Epoch 1/10\n",
            "157/157 [==============================] - 4s 22ms/step - loss: 4.1703 - accuracy: 0.6476 - val_loss: 0.1816 - val_accuracy: 0.9442\n",
            "Epoch 2/10\n",
            "157/157 [==============================] - 3s 21ms/step - loss: 0.4145 - accuracy: 0.8664 - val_loss: 0.1058 - val_accuracy: 0.9670\n",
            "Epoch 3/10\n",
            "157/157 [==============================] - 3s 21ms/step - loss: 0.3283 - accuracy: 0.8942 - val_loss: 0.0818 - val_accuracy: 0.9750\n",
            "Epoch 4/10\n",
            "157/157 [==============================] - 3s 21ms/step - loss: 0.2851 - accuracy: 0.9146 - val_loss: 0.0748 - val_accuracy: 0.9748\n",
            "Epoch 5/10\n",
            "157/157 [==============================] - 3s 21ms/step - loss: 0.2363 - accuracy: 0.9298 - val_loss: 0.0582 - val_accuracy: 0.9810\n",
            "Epoch 6/10\n",
            "157/157 [==============================] - 3s 21ms/step - loss: 0.2253 - accuracy: 0.9306 - val_loss: 0.0786 - val_accuracy: 0.9742\n",
            "Epoch 7/10\n",
            "157/157 [==============================] - 3s 21ms/step - loss: 0.2148 - accuracy: 0.9370 - val_loss: 0.0486 - val_accuracy: 0.9846\n",
            "Epoch 8/10\n",
            "157/157 [==============================] - 3s 21ms/step - loss: 0.2038 - accuracy: 0.9336 - val_loss: 0.0643 - val_accuracy: 0.9790\n",
            "Epoch 9/10\n",
            "157/157 [==============================] - 3s 21ms/step - loss: 0.1783 - accuracy: 0.9440 - val_loss: 0.0517 - val_accuracy: 0.9836\n",
            "Epoch 10/10\n",
            "157/157 [==============================] - 3s 21ms/step - loss: 0.1751 - accuracy: 0.9430 - val_loss: 0.0410 - val_accuracy: 0.9864\n"
          ]
        }
      ]
    },
    {
      "cell_type": "code",
      "source": [
        "test_loss,test_acc=model1.evaluate(val_images,val_labels)"
      ],
      "metadata": {
        "id": "AiMCu9mLOiZq",
        "outputId": "8484ada8-6464-4ecf-bd3e-49927956770c",
        "colab": {
          "base_uri": "https://localhost:8080/"
        }
      },
      "execution_count": 83,
      "outputs": [
        {
          "output_type": "stream",
          "name": "stdout",
          "text": [
            "157/157 [==============================] - 1s 4ms/step - loss: 0.0410 - accuracy: 0.9864\n"
          ]
        }
      ]
    }
  ]
}